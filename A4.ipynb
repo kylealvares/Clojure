{
 "cells": [
  {
   "cell_type": "markdown",
   "metadata": {
    "editable": false
   },
   "source": [
    "# Assignment 4\n",
    "\n",
    "In this assignment, you will be loading and analyzing data using the Clojure language.\n",
    "\n",
    "## The dataset\n",
    "\n",
    "Data is obtained from: https://simplemaps.com/data/canada-cities.  The raw data is available\n",
    "in \"/home/jovyan/work/shared/datasets/canadacities.csv\".  It contains information about over 1700 cities in Canada.\n",
    "\n",
    "## Analysis\n",
    "\n",
    "In this assignment, we will guide you to build functions of increasing complexity.  You will be using\n",
    "functional constructs to progressively more sophisticated data processing pipelines in Clojure."
   ]
  },
  {
   "cell_type": "code",
   "execution_count": 217,
   "metadata": {
    "editable": false
   },
   "outputs": [
    {
     "data": {
      "text/plain": [
       "nil"
      ]
     },
     "execution_count": 217,
     "metadata": {},
     "output_type": "execute_result"
    }
   ],
   "source": [
    "; 🔒🔒🔒\n",
    ";\n",
    "; Import core clojure functions from namespaces:\n",
    "; - `clojure.string` https://clojuredocs.org/clojure.string\n",
    "; - `clojure.pprint` https://clojuredocs.org/clojure.pprint\n",
    ";\n",
    "(require '[clojure.string :as s])\n",
    "(require '[clojure.pprint :refer [pprint]])"
   ]
  },
  {
   "cell_type": "markdown",
   "metadata": {
    "editable": false
   },
   "source": [
    "# Q1. `strip-quotes`\n",
    "\n",
    "`(strip-quotes s)`\n",
    "\n",
    "- `s` is a string that may be enclosed by double quotes.\n",
    "- returns a string with the double quotes removed.  If `s` does not have quotes, then\n",
    "  just return the element."
   ]
  },
  {
   "cell_type": "code",
   "execution_count": 218,
   "metadata": {
    "jupytercloud": {
     "directives": {
      "@solution": ""
     },
     "id": "0d30f13bbcc54eb0dd5cafd4b3d9c904"
    }
   },
   "outputs": [
    {
     "data": {
      "text/plain": [
       "#'user/strip-quotes"
      ]
     },
     "execution_count": 218,
     "metadata": {},
     "output_type": "execute_result"
    }
   ],
   "source": [
    "; ****Your Work****\n",
    ";;; @solution\n",
    "\n",
    "(defn strip-quotes [s]\n",
    "    (s/replace s #\"\\\"\" \"\")\n",
    ")"
   ]
  },
  {
   "cell_type": "code",
   "execution_count": 219,
   "metadata": {
    "editable": false,
    "jupytercloud": {
     "directives": {
      "@check": ""
     },
     "id": "7141616715a23ba85e7a5186a89cfd90"
    }
   },
   "outputs": [
    {
     "data": {
      "text/plain": [
       "\"hello\""
      ]
     },
     "execution_count": 219,
     "metadata": {},
     "output_type": "execute_result"
    }
   ],
   "source": [
    "; 🔒🔒🔒\n",
    ";;; @check\n",
    "\n",
    "(strip-quotes \"hello\")"
   ]
  },
  {
   "cell_type": "code",
   "execution_count": 220,
   "metadata": {
    "editable": false,
    "jupytercloud": {
     "directives": {
      "@check": ""
     },
     "id": "5e36ac17d67fa3ff8001a8f386417203"
    }
   },
   "outputs": [
    {
     "data": {
      "text/plain": [
       "\"world\""
      ]
     },
     "execution_count": 220,
     "metadata": {},
     "output_type": "execute_result"
    }
   ],
   "source": [
    "; 🔒🔒🔒\n",
    ";;; @check\n",
    "(strip-quotes \"\\\"world\\\"\")"
   ]
  },
  {
   "cell_type": "markdown",
   "metadata": {
    "editable": false
   },
   "source": [
    "# Q2. `parse-element`\n",
    "\n",
    "`(parse-element s)`\n",
    "\n",
    "- `s` is the string value to be parsed.\n",
    "  - if `s` looks like an integer, it should be converted to an integer.\n",
    "  - if `s` looks like a decimal, it should be converted to a double.\n",
    "  - otherwise, return `s` unmodified as a string.\n",
    "---\n",
    "- returns either a string, double, or an integer."
   ]
  },
  {
   "cell_type": "code",
   "execution_count": 221,
   "metadata": {
    "jupytercloud": {
     "directives": {
      "@solution": ""
     },
     "id": "c8bc3e670d56bb00ed80b9b0207bb7d9"
    }
   },
   "outputs": [
    {
     "data": {
      "text/plain": [
       "#'user/parse-element"
      ]
     },
     "execution_count": 221,
     "metadata": {},
     "output_type": "execute_result"
    }
   ],
   "source": [
    "; ****Your Work****\n",
    ";;; @solution\n",
    "\n",
    "(defn parse-element [s]\n",
    "    (try (Double/parseDouble s)\n",
    "        (if (s/includes? s \".\")\n",
    "            (Double/parseDouble s)\n",
    "            (Integer/parseInt s)\n",
    "        )\n",
    "       (catch Exception e (str s)) \n",
    "    )\n",
    ")"
   ]
  },
  {
   "cell_type": "code",
   "execution_count": 222,
   "metadata": {
    "editable": false,
    "jupytercloud": {
     "directives": {
      "@check": ""
     },
     "id": "a66c9be2a8cb43f1e2859a0ac111e5cf"
    }
   },
   "outputs": [
    {
     "data": {
      "text/plain": [
       "[java.lang.Double 3.1415]"
      ]
     },
     "execution_count": 222,
     "metadata": {},
     "output_type": "execute_result"
    }
   ],
   "source": [
    "; 🔒🔒🔒\n",
    ";;; @check\n",
    "(let [x (parse-element \"3.1415\")]\n",
    "    [(type x) x])"
   ]
  },
  {
   "cell_type": "code",
   "execution_count": 223,
   "metadata": {
    "editable": false,
    "jupytercloud": {
     "directives": {
      "@check": ""
     },
     "id": "b1ba8cbbdededef0afdb98e88b7c3814"
    }
   },
   "outputs": [
    {
     "data": {
      "text/plain": [
       "[java.lang.Double 3.0]"
      ]
     },
     "execution_count": 223,
     "metadata": {},
     "output_type": "execute_result"
    }
   ],
   "source": [
    "; 🔒🔒🔒\n",
    ";;; @check\n",
    "(let [x (parse-element \"3.\")]\n",
    "    [(type x) x])"
   ]
  },
  {
   "cell_type": "code",
   "execution_count": 224,
   "metadata": {
    "editable": false,
    "jupytercloud": {
     "directives": {
      "@check": ""
     },
     "id": "e28b18c7bcb9c373adfd02499e1eff85"
    }
   },
   "outputs": [
    {
     "data": {
      "text/plain": [
       "[java.lang.Integer 31415]"
      ]
     },
     "execution_count": 224,
     "metadata": {},
     "output_type": "execute_result"
    }
   ],
   "source": [
    "; 🔒🔒🔒\n",
    ";;; @check\n",
    "(let [x (parse-element \"31415\")]\n",
    "    [(type x) x])"
   ]
  },
  {
   "cell_type": "code",
   "execution_count": 225,
   "metadata": {
    "editable": false,
    "jupytercloud": {
     "directives": {
      "@check": ""
     },
     "id": "20140e6eb541125c6aa00a878d0492e7"
    }
   },
   "outputs": [
    {
     "data": {
      "text/plain": [
       "[java.lang.String \"hello world\"]"
      ]
     },
     "execution_count": 225,
     "metadata": {},
     "output_type": "execute_result"
    }
   ],
   "source": [
    "; 🔒🔒🔒\n",
    ";;; @check\n",
    "(let [x (parse-element \"hello world\")]\n",
    "    [(type x) x])"
   ]
  },
  {
   "cell_type": "markdown",
   "metadata": {
    "editable": false
   },
   "source": [
    "# Q3. `parse-line`\n",
    "\n",
    "`(parse-line line)`\n",
    "\n",
    "- `line` is a string containing common-separated values.  Each value is maybe enclosed by double quotes.\n",
    "---\n",
    "- returns a sequence of parsed values (either string, double or integer).  You must also remote any excess whitespace outside the quotes."
   ]
  },
  {
   "cell_type": "code",
   "execution_count": 226,
   "metadata": {
    "jupytercloud": {
     "directives": {
      "@solution": ""
     },
     "id": "bd8ba107c99e6587eccd2e557c7051c3"
    }
   },
   "outputs": [
    {
     "data": {
      "text/plain": [
       "#'user/parse-line"
      ]
     },
     "execution_count": 226,
     "metadata": {},
     "output_type": "execute_result"
    }
   ],
   "source": [
    "; ****Your Work****\n",
    ";;; @solution\n",
    "\n",
    "(defn parse-line [line]\n",
    "    (for [x (clojure.string/split line #\",\")\n",
    "        :let [y (parse-element (strip-quotes (s/trim  x)))]]\n",
    "    y)\n",
    ")"
   ]
  },
  {
   "cell_type": "code",
   "execution_count": 227,
   "metadata": {
    "editable": false,
    "jupytercloud": {
     "directives": {
      "@check": ""
     },
     "id": "3304f2ea434badf9409164c199096151"
    }
   },
   "outputs": [
    {
     "data": {
      "text/plain": [
       "(\"hello\" \"world\")"
      ]
     },
     "execution_count": 227,
     "metadata": {},
     "output_type": "execute_result"
    }
   ],
   "source": [
    "; 🔒🔒🔒\n",
    ";;; @check\n",
    "\n",
    "(parse-line \"\\\"hello\\\",\\\"world\\\"\")"
   ]
  },
  {
   "cell_type": "code",
   "execution_count": 228,
   "metadata": {
    "editable": false,
    "jupytercloud": {
     "directives": {
      "@check": ""
     },
     "id": "f4ca5be79f0f7a9517f1e0c7d04a8732"
    }
   },
   "outputs": [
    {
     "data": {
      "text/plain": [
       "(\"hello\" 123 3.1415)"
      ]
     },
     "execution_count": 228,
     "metadata": {},
     "output_type": "execute_result"
    }
   ],
   "source": [
    "; 🔒🔒🔒\n",
    ";;; @check\n",
    "\n",
    "(parse-line \"hello,123,3.1415\")"
   ]
  },
  {
   "cell_type": "code",
   "execution_count": 229,
   "metadata": {
    "editable": false,
    "jupytercloud": {
     "directives": {
      "@check": ""
     },
     "id": "00567db5948862324ae1e00ec300ba77"
    }
   },
   "outputs": [
    {
     "data": {
      "text/plain": [
       "(\"hello\" 123 3.1415)"
      ]
     },
     "execution_count": 229,
     "metadata": {},
     "output_type": "execute_result"
    }
   ],
   "source": [
    "; 🔒🔒🔒\n",
    ";;; @check\n",
    "\n",
    "(parse-line \"hello,   123   ,   3.1415   \")"
   ]
  },
  {
   "cell_type": "code",
   "execution_count": 230,
   "metadata": {
    "editable": false,
    "jupytercloud": {
     "directives": {
      "@check": ""
     },
     "id": "8c4a22241b7371464ae668603043b8cc"
    }
   },
   "outputs": [
    {
     "data": {
      "text/plain": [
       "(\"hello\" \" 123 \" 3.1415)"
      ]
     },
     "execution_count": 230,
     "metadata": {},
     "output_type": "execute_result"
    }
   ],
   "source": [
    "; 🔒🔒🔒\n",
    ";;; @check\n",
    "\n",
    "(parse-line \"hello,  \\\" 123 \\\"  ,   \\\"3.1415\\\"   \")"
   ]
  },
  {
   "cell_type": "markdown",
   "metadata": {
    "editable": false
   },
   "source": [
    "# Q4. Using these functions\n",
    "\n",
    "We have provided code (see `city.clj` file) that will make use of your functions to perform\n",
    "parsing of a CSV file containing information of 1738 Canadian cities.\n",
    "\n",
    "The Clojure file can be imported using `(require <name>)` where `<name>` is a quoted\n",
    "symbol that corresponds to the Clojure file, in this case `city`.\n",
    "\n",
    "- Complete the require form so you can access the functions provided in `cities.clj`.\n",
    "- Study the `cities.clj` file and make sure you understand how the functions work."
   ]
  },
  {
   "cell_type": "code",
   "execution_count": 231,
   "metadata": {
    "jupytercloud": {
     "directives": {
      "@solution": ""
     },
     "id": "488189b9925858c052c27ba0060586d0"
    }
   },
   "outputs": [
    {
     "data": {
      "text/plain": [
       "nil"
      ]
     },
     "execution_count": 231,
     "metadata": {},
     "output_type": "execute_result"
    }
   ],
   "source": [
    "; ****Your Work****\n",
    ";;; @solution\n",
    "\n",
    ";\n",
    "; Complete the following require form.\n",
    ";\n",
    "\n",
    "(require 'city)\n"
   ]
  },
  {
   "cell_type": "code",
   "execution_count": 20,
   "metadata": {
    "editable": false,
    "jupytercloud": {
     "directives": {
      "@check": ""
     },
     "id": "d3b93e6271133d27fa539e8b1b559131"
    }
   },
   "outputs": [
    {
     "data": {
      "text/plain": [
       "(\"city\" \"city_ascii\" \"province_id\" \"province_name\" \"lat\" \"lng\" \"population\" \"density\" \"timezone\" \"ranking\" \"postal\" \"id\")"
      ]
     },
     "execution_count": 20,
     "metadata": {},
     "output_type": "execute_result"
    }
   ],
   "source": [
    "; 🔒🔒🔒\n",
    ";;; @check\n",
    "\n",
    "(load-header)"
   ]
  },
  {
   "cell_type": "code",
   "execution_count": 232,
   "metadata": {
    "editable": false,
    "jupytercloud": {
     "directives": {
      "@check": ""
     },
     "id": "bd55682d8e3f67d02ca6529bb698d0c1"
    }
   },
   "outputs": [
    {
     "data": {
      "text/plain": [
       "1738"
      ]
     },
     "execution_count": 232,
     "metadata": {},
     "output_type": "execute_result"
    }
   ],
   "source": [
    "; 🔒🔒🔒\n",
    ";;; @check\n",
    "\n",
    "(-> (load-rows) (count))"
   ]
  },
  {
   "cell_type": "code",
   "execution_count": 233,
   "metadata": {
    "editable": false,
    "jupytercloud": {
     "directives": {
      "@check": ""
     },
     "id": "eb8fa6bb78f13a5f4f35399eb78d0d88"
    }
   },
   "outputs": [
    {
     "data": {
      "text/plain": [
       "((Toronto Toronto ON Ontario 43.7417 -79.3733 5429524 4334.4 America/Toronto 1 M5T M5V M5P M5S M5R M5E M5G M5A M5C M5B M5M M5N M5H M5J M4X M4Y M4R M4S M4P M4V M4W M4T M4J M4K M4H M4N M4L M4M M4B M4C M4A M4G M4E M3N M3M M3L M3K M3J M3H M3C M3B M3A M2P M2R M2L M2M M2N M2H M2J M2K M1C M1B M1E M1G M1H M1K M1J M1M M1L M1N M1P M1S M1R M1T M1W M1V M1X M9P M9R M9W M9V M9M M9L M9N M9A M9C M9B M6P M6R M6S M6A M6B M6C M6E M6G M6H M6J M6K M6L M6M M6N M8Z M8X M8Y M8V M8W 1124279679)\n",
       "(Montréal Montreal QC Quebec 45.5089 -73.5617 3519595 3889.0 America/Montreal 1 H1X H1Y H1Z H1P H1R H1S H1T H1V H1W H1H H1J H1K H1L H1M H1N H1A H1B H1C H1E H1G H2Y H2X H2Z H2T H2W H2V H2P H2S H2R H2M H2L H2N H2H H2K H2J H2E H2G H2A H2C H2B H3B H3C H3A H3G H3E H3J H3K H3H H3N H3L H3M H3R H3S H3V H3W H3T H3X H4G H4E H4C H4B H4A H4N H4M H4L H4K H4J H4H H4V H4S H4R H4P H8N H8S H8R H8P H8T H8Z H8Y H9A H9C H9E H9H H9J H9K 1124586170)\n",
       "nil nil)"
      ]
     },
     "execution_count": 233,
     "metadata": {},
     "output_type": "execute_result"
    }
   ],
   "source": [
    "; 🔒🔒🔒\n",
    ";;; @check\n",
    "\n",
    "(->> (load-rows)\n",
    "     (take 2)\n",
    "     (map println))"
   ]
  },
  {
   "cell_type": "markdown",
   "metadata": {
    "editable": false
   },
   "source": [
    "# Q5. `build-hash-map`\n",
    "\n",
    "`(build-hash-map header row)`\n",
    "\n",
    "- `header` is a sequence of strings that are the column headers of the CSV file.\n",
    "- `row` is a sequence of values from a row in the CSV file.\n",
    "---\n",
    "- returns a hash-map representation of the row.  You are required to\n",
    "  convert strings in the header to keywords, and then use them as the keys of the hash-map."
   ]
  },
  {
   "cell_type": "code",
   "execution_count": 234,
   "metadata": {
    "jupytercloud": {
     "directives": {
      "@solution": ""
     },
     "id": "fee8483974bb80a5ff6804a993a812fb"
    }
   },
   "outputs": [
    {
     "data": {
      "text/plain": [
       "#'user/build-hash-map"
      ]
     },
     "execution_count": 234,
     "metadata": {},
     "output_type": "execute_result"
    }
   ],
   "source": [
    "; ****Your Work****\n",
    ";;; @solution\n",
    "\n",
    "(defn build-hash-map [header row]\n",
    "    (zipmap header row)\n",
    ")"
   ]
  },
  {
   "cell_type": "code",
   "execution_count": 235,
   "metadata": {
    "editable": false,
    "jupytercloud": {
     "directives": {
      "@check": ""
     },
     "id": "2deecaba6e5ea01dd08d82ed79761012"
    },
    "scrolled": true
   },
   "outputs": [
    {
     "name": "stdout",
     "output_type": "stream",
     "text": [
      "{\"city\" \"Toronto\",\n",
      " \"timezone\" \"America/Toronto\",\n",
      " \"lng\" -79.3733,\n",
      " \"id\" 1124279679,\n",
      " \"province_name\" \"Ontario\",\n",
      " \"postal\"\n",
      " \"M5T M5V M5P M5S M5R M5E M5G M5A M5C M5B M5M M5N M5H M5J M4X M4Y M4R M4S M4P M4V M4W M4T M4J M4K M4H M4N M4L M4M M4B M4C M4A M4G M4E M3N M3M M3L M3K M3J M3H M3C M3B M3A M2P M2R M2L M2M M2N M2H M2J M2K M1C M1B M1E M1G M1H M1K M1J M1M M1L M1N M1P M1S M1R M1T M1W M1V M1X M9P M9R M9W M9V M9M M9L M9N M9A M9C M9B M6P M6R M6S M6A M6B M6C M6E M6G M6H M6J M6K M6L M6M M6N M8Z M8X M8Y M8V M8W\",\n",
      " \"population\" 5429524,\n",
      " \"province_id\" \"ON\",\n",
      " \"city_ascii\" \"Toronto\",\n",
      " \"lat\" 43.7417,\n",
      " \"ranking\" 1,\n",
      " \"density\" 4334.4}\n"
     ]
    },
    {
     "data": {
      "text/plain": [
       "nil"
      ]
     },
     "execution_count": 235,
     "metadata": {},
     "output_type": "execute_result"
    }
   ],
   "source": [
    "; 🔒🔒🔒\n",
    ";;; @check\n",
    "\n",
    "(->> (load-rows)\n",
    "    (first)\n",
    "    (build-hash-map (load-header))\n",
    "    (pprint))"
   ]
  },
  {
   "cell_type": "markdown",
   "metadata": {
    "editable": false
   },
   "source": [
    "# Q6. `abbreviate`\n",
    "\n",
    "`(abbreviate city)`\n",
    "\n",
    "- `city` is the hash-map representation of a city.\n",
    "---\n",
    "- returns the abbreviated hash-map with only keys `:city` and `:province_id`."
   ]
  },
  {
   "cell_type": "code",
   "execution_count": 236,
   "metadata": {
    "jupytercloud": {
     "directives": {
      "@solution": ""
     },
     "id": "99297c5d5321da4a1410e4261bf7f4e4"
    }
   },
   "outputs": [
    {
     "data": {
      "text/plain": [
       "#'user/abbreviate"
      ]
     },
     "execution_count": 236,
     "metadata": {},
     "output_type": "execute_result"
    }
   ],
   "source": [
    "; ****Your Work****\n",
    ";;; @solution\n",
    "\n",
    "(defn abbreviate [city] \n",
    "    (hash-map :city (get city \"city\") :province_id (get city \"province_id\"))\n",
    ")"
   ]
  },
  {
   "cell_type": "code",
   "execution_count": 237,
   "metadata": {
    "editable": false,
    "jupytercloud": {
     "directives": {
      "@check": ""
     },
     "id": "c34c0244ba142e1dfc1c8d73624952d7"
    }
   },
   "outputs": [
    {
     "data": {
      "text/plain": [
       "{:city \"Toronto\", :province_id \"ON\"}"
      ]
     },
     "execution_count": 237,
     "metadata": {},
     "output_type": "execute_result"
    }
   ],
   "source": [
    "; 🔒🔒🔒\n",
    ";;; @check\n",
    "\n",
    "(->> (load-rows)\n",
    "    (first)\n",
    "    (build-hash-map (load-header))\n",
    "    (abbreviate))"
   ]
  },
  {
   "cell_type": "markdown",
   "metadata": {
    "editable": false
   },
   "source": [
    "# Q7. `load-cities`\n",
    "\n",
    "`(load-cities)`\n",
    "\n",
    "- returns a sequence of cities represented as hash-maps."
   ]
  },
  {
   "cell_type": "code",
   "execution_count": 238,
   "metadata": {
    "jupytercloud": {
     "directives": {
      "@solution": ""
     },
     "id": "aa33742f8b81bcb79323d2da369da142"
    }
   },
   "outputs": [
    {
     "data": {
      "text/plain": [
       "#'user/load-cities"
      ]
     },
     "execution_count": 238,
     "metadata": {},
     "output_type": "execute_result"
    }
   ],
   "source": [
    "; ****Your Work****\n",
    ";;; @solution\n",
    "\n",
    "(defn load-cities []\n",
    "    (for [x (load-rows) :let [y (build-hash-map (load-header) x)]] y)\n",
    ")"
   ]
  },
  {
   "cell_type": "code",
   "execution_count": 239,
   "metadata": {
    "editable": false,
    "jupytercloud": {
     "directives": {
      "@check": ""
     },
     "id": "6d7642fc14854569eeb2b0b2e1d44967"
    }
   },
   "outputs": [
    {
     "data": {
      "text/plain": [
       "{\"city\" \"Toronto\", \"timezone\" \"America/Toronto\", \"lng\" -79.3733, \"id\" 1124279679, \"province_name\" \"Ontario\", \"postal\" \"M5T M5V M5P M5S M5R M5E M5G M5A M5C M5B M5M M5N M5H M5J M4X M4Y M4R M4S M4P M4V M4W M4T M4J M4K M4H M4N M4L M4M M4B M4C M4A M4G M4E M3N M3M M3L M3K M3J M3H M3C M3B M3A M2P M2R M2L M2M M2N M2H M2J M2K M1C M1B M1E M1G M1H M1K M1J M1M M1L M1N M1P M1S M1R M1T M1W M1V M1X M9P M9R M9W M9V M9M M9L M9N M9A M9C M9B M6P M6R M6S M6A M6B M6C M6E M6G M6H M6J M6K M6L M6M M6N M8Z M8X M8Y M8V M8W\", \"population\" 5429524, \"province_id\" \"ON\", \"city_ascii\" \"Toronto\", \"lat\" 43.7417, \"ranking\" 1, \"density\" 4334.4}"
      ]
     },
     "execution_count": 239,
     "metadata": {},
     "output_type": "execute_result"
    }
   ],
   "source": [
    "; 🔒🔒🔒\n",
    ";;; @check\n",
    "\n",
    "(first (load-cities))"
   ]
  },
  {
   "cell_type": "code",
   "execution_count": 240,
   "metadata": {
    "editable": false,
    "jupytercloud": {
     "directives": {
      "@check": ""
     },
     "id": "0b0f60fb8f964cec7adbad81fdd0fdb1"
    }
   },
   "outputs": [
    {
     "data": {
      "text/plain": [
       "{\"city\" \"Oyen\", \"timezone\" \"America/Edmonton\", \"lng\" -110.4739, \"id\" 1124000494, \"province_name\" \"Alberta\", \"postal\" \"T0J\", \"population\" 1001, \"province_id\" \"AB\", \"city_ascii\" \"Oyen\", \"lat\" 51.3522, \"ranking\" 3, \"density\" 189.6}"
      ]
     },
     "execution_count": 240,
     "metadata": {},
     "output_type": "execute_result"
    }
   ],
   "source": [
    "; 🔒🔒🔒\n",
    ";;; @check\n",
    "(last (load-cities))"
   ]
  },
  {
   "cell_type": "markdown",
   "metadata": {
    "editable": false
   },
   "source": [
    "# Q8. `load-abbreviated-cities`\n",
    "\n",
    "`(load-abbreviated-cities)`\n",
    "\n",
    "- returns cities as abbreviated hash-maps."
   ]
  },
  {
   "cell_type": "code",
   "execution_count": 241,
   "metadata": {
    "jupytercloud": {
     "directives": {
      "@solution": ""
     },
     "id": "5e152bca3f6880a493bdf0c05342e4c7"
    }
   },
   "outputs": [
    {
     "data": {
      "text/plain": [
       "#'user/load-abbreviated-cities"
      ]
     },
     "execution_count": 241,
     "metadata": {},
     "output_type": "execute_result"
    }
   ],
   "source": [
    "; ****Your Work****\n",
    ";;; @solution\n",
    "\n",
    "(defn load-abbreviated-cities [] \n",
    "    (for [x (load-cities) :let [y (abbreviate x)]] y)\n",
    ")"
   ]
  },
  {
   "cell_type": "code",
   "execution_count": 242,
   "metadata": {
    "editable": false,
    "jupytercloud": {
     "directives": {
      "@check": ""
     },
     "id": "c69a91d52c585fa6e2a017ed6e243852"
    }
   },
   "outputs": [
    {
     "name": "stdout",
     "output_type": "stream",
     "text": [
      "({:city \"Toronto\", :province_id \"ON\"}\n",
      " {:city \"Montréal\", :province_id \"QC\"}\n",
      " {:city \"Vancouver\", :province_id \"BC\"}\n",
      " {:city \"Calgary\", :province_id \"AB\"}\n",
      " {:city \"Edmonton\", :province_id \"AB\"}\n",
      " {:city \"Ottawa\", :province_id \"ON\"}\n",
      " {:city \"Mississauga\", :province_id \"ON\"}\n",
      " {:city \"Winnipeg\", :province_id \"MB\"}\n",
      " {:city \"Quebec City\", :province_id \"QC\"}\n",
      " {:city \"Hamilton\", :province_id \"ON\"})\n"
     ]
    },
    {
     "data": {
      "text/plain": [
       "nil"
      ]
     },
     "execution_count": 242,
     "metadata": {},
     "output_type": "execute_result"
    }
   ],
   "source": [
    "; 🔒🔒🔒\n",
    ";;; @check\n",
    "(pprint (take 10 (load-abbreviated-cities)))"
   ]
  },
  {
   "cell_type": "code",
   "execution_count": 243,
   "metadata": {
    "editable": false,
    "jupytercloud": {
     "directives": {
      "@check": ""
     },
     "id": "9904342c6707cb636bd71e9948912647"
    },
    "scrolled": true
   },
   "outputs": [
    {
     "name": "stdout",
     "output_type": "stream",
     "text": [
      "({:city \"Assiginack\", :province_id \"ON\"}\n",
      " {:city \"Brébeuf\", :province_id \"QC\"}\n",
      " {:city \"Hudson Hope\", :province_id \"BC\"}\n",
      " {:city \"Prince\", :province_id \"ON\"}\n",
      " {:city \"Baie-du-Febvre\", :province_id \"QC\"}\n",
      " {:city \"Durham-Sud\", :province_id \"QC\"}\n",
      " {:city \"Melbourne\", :province_id \"QC\"}\n",
      " {:city \"Nipawin No. 487\", :province_id \"SK\"}\n",
      " {:city \"Duck Lake No. 463\", :province_id \"SK\"}\n",
      " {:city \"Oyen\", :province_id \"AB\"})\n"
     ]
    },
    {
     "data": {
      "text/plain": [
       "nil"
      ]
     },
     "execution_count": 243,
     "metadata": {},
     "output_type": "execute_result"
    }
   ],
   "source": [
    "; 🔒🔒🔒\n",
    ";;; @check\n",
    "(pprint (take-last 10 (load-abbreviated-cities)))"
   ]
  },
  {
   "cell_type": "markdown",
   "metadata": {
    "editable": false
   },
   "source": [
    "# Q9. `match?`\n",
    "\n",
    "`(match? [regexp city])`\n",
    "\n",
    "- `regexp` is a regular expression.\n",
    "- `city` is a hash-map representation of the city.\n",
    "---\n",
    "- returns a true if and only if some key/value in `city` (as a string) matches the `pattern`.\n",
    "\n",
    "The string representation of a key `k`, value `v` pair is given by `(str k \" \" v)`"
   ]
  },
  {
   "cell_type": "code",
   "execution_count": 244,
   "metadata": {
    "jupytercloud": {
     "directives": {
      "@solution": ""
     },
     "id": "8ea3cbdf6bed7f14b6f3491b0a79402d"
    }
   },
   "outputs": [
    {
     "data": {
      "text/plain": [
       "#'user/match?"
      ]
     },
     "execution_count": 244,
     "metadata": {},
     "output_type": "execute_result"
    }
   ],
   "source": [
    "; ****Your Work****\n",
    ";;; @solution\n",
    "\n",
    "(defn match? [pattern city]\n",
    "    (let [split (clojure.string/split (str pattern) #\" \")]\n",
    "        (if (= (count split) 1)\n",
    "            (clojure.string/includes? (str city) (first split))\n",
    "            (if (clojure.string/includes? (first split) \":\")\n",
    "                (clojure.string/includes? (str (get city (subs (first split) 1))) (last split))\n",
    "                (clojure.string/includes? (str (get city (first split))) (last split))\n",
    "            )\n",
    "        )\n",
    "    )\n",
    ")"
   ]
  },
  {
   "cell_type": "code",
   "execution_count": 245,
   "metadata": {
    "editable": false,
    "jupytercloud": {
     "directives": {
      "@check": ""
     },
     "id": "4ce1038c342881058b2b71434f34ba42"
    }
   },
   "outputs": [
    {
     "name": "stdout",
     "output_type": "stream",
     "text": [
      "match? \"toronto\": true\n",
      "match? population starting with 5: true\n",
      "match? population starting with 6: false\n",
      "match? M5T: true\n",
      "match? M5K: false\n"
     ]
    },
    {
     "data": {
      "text/plain": [
       "nil"
      ]
     },
     "execution_count": 245,
     "metadata": {},
     "output_type": "execute_result"
    }
   ],
   "source": [
    "; 🔒🔒🔒\n",
    ";;; @check\n",
    "\n",
    "(let [toronto (build-hash-map (load-header) (first (load-rows)))]\n",
    "    (println \"match? \\\"toronto\\\":\" (match? #\"Toronto\" toronto))\n",
    "    (println \"match? population starting with 5:\" (match? #\"population 5\" toronto))\n",
    "    (println \"match? population starting with 6:\" (match? #\"population 6\" toronto))\n",
    "    (println \"match? M5T:\" (match? #\"M5T\" toronto))\n",
    "    (println \"match? M5K:\"(match? #\"M5K\" toronto)))"
   ]
  },
  {
   "cell_type": "code",
   "execution_count": 246,
   "metadata": {
    "editable": false,
    "jupytercloud": {
     "directives": {
      "@check": ""
     },
     "id": "fdf532ff4214e8542479061b57fbfc32"
    }
   },
   "outputs": [
    {
     "name": "stdout",
     "output_type": "stream",
     "text": [
      "match? \"toronto\": true\n",
      "match? population starting with 5: false\n",
      "match? population starting with 6: false\n",
      "match? M5T: false\n",
      "match? M5K: false\n"
     ]
    },
    {
     "data": {
      "text/plain": [
       "nil"
      ]
     },
     "execution_count": 246,
     "metadata": {},
     "output_type": "execute_result"
    }
   ],
   "source": [
    "; 🔒🔒🔒\n",
    ";;; @check\n",
    "\n",
    "(let [toronto (abbreviate (build-hash-map (load-header) (first (load-rows))))]\n",
    "    (println \"match? \\\"toronto\\\":\" (match? #\"Toronto\" toronto))\n",
    "    (println \"match? population starting with 5:\" (match? #\"population 5\" toronto))\n",
    "    (println \"match? population starting with 6:\" (match? #\"population 6\" toronto))\n",
    "    (println \"match? M5T:\" (match? #\"M5T\" toronto))\n",
    "    (println \"match? M5K:\"(match? #\"M5K\" toronto)))"
   ]
  },
  {
   "cell_type": "markdown",
   "metadata": {
    "editable": false
   },
   "source": [
    "# Q10. `query`\n",
    "\n",
    "`(query pattern cities)`\n",
    "\n",
    "- `pattern` is a regular expression.\n",
    "- `cities` is a sequence of cities represented as hash-maps.\n",
    "---\n",
    "- returns all cities `x` (as hash-maps) in `cities` that satisfy the `(match? pattern x)` predicate."
   ]
  },
  {
   "cell_type": "code",
   "execution_count": 253,
   "metadata": {
    "jupytercloud": {
     "directives": {
      "@solution": ""
     },
     "id": "a8ad4f232afc9cbcbe77e79eede083e2"
    }
   },
   "outputs": [
    {
     "data": {
      "text/plain": [
       "#'user/query"
      ]
     },
     "execution_count": 253,
     "metadata": {},
     "output_type": "execute_result"
    }
   ],
   "source": [
    "; ****Your Work****\n",
    ";;; @solution\n",
    "(defn query [pattern cities]\n",
    "    (for [x cities :let [y x] :when (match? pattern x)] y)\n",
    ")"
   ]
  },
  {
   "cell_type": "code",
   "execution_count": 254,
   "metadata": {
    "editable": false,
    "jupytercloud": {
     "directives": {
      "@check": ""
     },
     "id": "e2ed18874c28f5736a4e06d20b6756d9"
    }
   },
   "outputs": [
    {
     "data": {
      "text/plain": [
       "329"
      ]
     },
     "execution_count": 254,
     "metadata": {},
     "output_type": "execute_result"
    }
   ],
   "source": [
    "; 🔒🔒🔒\n",
    ";;; @check\n",
    "\n",
    ";\n",
    "; Count the number of cities with \"Toronto\" as part of its entry.\n",
    "; Note: many cities use the \"American/Toronto\" timezone.\n",
    ";\n",
    "(count (query #\"Toronto\" (load-cities)))"
   ]
  },
  {
   "cell_type": "code",
   "execution_count": 255,
   "metadata": {
    "editable": false,
    "jupytercloud": {
     "directives": {
      "@check": ""
     },
     "id": "a49f5fdddaa56dcc45c20be12a9775b7"
    }
   },
   "outputs": [
    {
     "data": {
      "text/plain": [
       "1"
      ]
     },
     "execution_count": 255,
     "metadata": {},
     "output_type": "execute_result"
    }
   ],
   "source": [
    "; 🔒🔒🔒\n",
    ";;; @check\n",
    "\n",
    ";\n",
    "; Count the number of cities with \":city Toronto\" as part of its entry.\n",
    "; This limits the query to just city name.\n",
    ";\n",
    "(->> (load-cities)\n",
    "    (query #\":city Toronto\")\n",
    "    (count))"
   ]
  },
  {
   "cell_type": "code",
   "execution_count": 256,
   "metadata": {
    "editable": false,
    "jupytercloud": {
     "directives": {
      "@check": ""
     },
     "id": "eca318eec3178949d168c23ada49ad21"
    }
   },
   "outputs": [
    {
     "data": {
      "text/plain": [
       "345"
      ]
     },
     "execution_count": 256,
     "metadata": {},
     "output_type": "execute_result"
    }
   ],
   "source": [
    "; 🔒🔒🔒\n",
    ";;; @check\n",
    "\n",
    ";\n",
    "; Count the number of cities with \"Ontario\"\n",
    ";\n",
    "(->> (load-cities)\n",
    "    (query #\"Ontario\")\n",
    "    (count))"
   ]
  },
  {
   "cell_type": "code",
   "execution_count": 257,
   "metadata": {
    "editable": false,
    "jupytercloud": {
     "directives": {
      "@check": ""
     },
     "id": "c89af8582e00576c4c845718ba094298"
    }
   },
   "outputs": [
    {
     "data": {
      "text/plain": [
       "0"
      ]
     },
     "execution_count": 257,
     "metadata": {},
     "output_type": "execute_result"
    }
   ],
   "source": [
    "; 🔒🔒🔒\n",
    ";;; @check\n",
    "\n",
    ";\n",
    "; Query the cities satisfying both query\n",
    "; conditions:\n",
    "; - \"Ontario\"\n",
    "; - \":city Lav\", i.e. city name starting with Lav.\n",
    ";\n",
    "(->> (load-cities)\n",
    "    (query #\"Ontario\")\n",
    "    (query #\":city Lav\")\n",
    "    (count))"
   ]
  },
  {
   "cell_type": "code",
   "execution_count": 258,
   "metadata": {
    "editable": false,
    "jupytercloud": {
     "directives": {
      "@check": ""
     },
     "id": "c627528776fc82fb0d2d5b631d2f0051"
    }
   },
   "outputs": [
    {
     "name": "stdout",
     "output_type": "stream",
     "text": [
      "{\"city\" \"Oshawa\",\n",
      " \"timezone\" \"America/Toronto\",\n",
      " \"lng\" -78.85,\n",
      " \"id\" 1124541904,\n",
      " \"province_name\" \"Ontario\",\n",
      " \"postal\" \"L1L L1H L1J L1K L1G\",\n",
      " \"population\" 166000,\n",
      " \"province_id\" \"ON\",\n",
      " \"city_ascii\" \"Oshawa\",\n",
      " \"lat\" 43.9,\n",
      " \"ranking\" 2,\n",
      " \"density\" 1027.0}\n"
     ]
    },
    {
     "data": {
      "text/plain": [
       "nil"
      ]
     },
     "execution_count": 258,
     "metadata": {},
     "output_type": "execute_result"
    }
   ],
   "source": [
    "; 🔒🔒🔒\n",
    ";;; @check\n",
    ";\n",
    "; Search for the city Ontario Tech is part of by\n",
    "; querying for its postal code. L1G\n",
    ";\n",
    "(->> (load-cities)\n",
    "     (query #\"L1G\")\n",
    "     (first)\n",
    "     (pprint))"
   ]
  }
 ],
 "metadata": {
  "kernelspec": {
   "display_name": "Clojure - CSCI 3055U (ver. 2020/11/22)",
   "language": "clojure",
   "name": "clojupyter-0.3.2"
  },
  "language_info": {
   "file_extension": ".clj",
   "mimetype": "text/x-clojure",
   "name": "clojure",
   "version": "1.10.1"
  }
 },
 "nbformat": 4,
 "nbformat_minor": 4
}
